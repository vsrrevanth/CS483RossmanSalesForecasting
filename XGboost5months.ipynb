{
 "cells": [
  {
   "cell_type": "code",
   "execution_count": 28,
   "metadata": {
    "colab": {
     "base_uri": "https://localhost:8080/"
    },
    "id": "JbMw__0dMHo1",
    "outputId": "cbf1be61-af73-4351-be6a-d21dad0baa6a"
   },
   "outputs": [
    {
     "name": "stderr",
     "output_type": "stream",
     "text": [
      "<ipython-input-28-32277217e115>:2: DtypeWarning: Columns (8) have mixed types. Specify dtype option on import or set low_memory=False.\n",
      "  df=pd.read_csv('sample_data/sales_store.csv')\n"
     ]
    }
   ],
   "source": [
    "import pandas as pd\n",
    "df=pd.read_csv('sales_store.csv')"
   ]
  },
  {
   "cell_type": "code",
   "execution_count": 29,
   "metadata": {
    "colab": {
     "base_uri": "https://localhost:8080/",
     "height": 403
    },
    "id": "U1Fuwr6HMKx_",
    "outputId": "79e189b9-6027-4434-bd5e-51740d83e4d0"
   },
   "outputs": [
    {
     "data": {
      "text/html": [
       "\n",
       "  <div id=\"df-f73fa532-5d2d-483c-8bed-e6359f3b22d6\">\n",
       "    <div class=\"colab-df-container\">\n",
       "      <div>\n",
       "<style scoped>\n",
       "    .dataframe tbody tr th:only-of-type {\n",
       "        vertical-align: middle;\n",
       "    }\n",
       "\n",
       "    .dataframe tbody tr th {\n",
       "        vertical-align: top;\n",
       "    }\n",
       "\n",
       "    .dataframe thead th {\n",
       "        text-align: right;\n",
       "    }\n",
       "</style>\n",
       "<table border=\"1\" class=\"dataframe\">\n",
       "  <thead>\n",
       "    <tr style=\"text-align: right;\">\n",
       "      <th></th>\n",
       "      <th>Unnamed: 0</th>\n",
       "      <th>Store</th>\n",
       "      <th>DayOfWeek</th>\n",
       "      <th>Date</th>\n",
       "      <th>Sales</th>\n",
       "      <th>Customers</th>\n",
       "      <th>Open</th>\n",
       "      <th>Promo</th>\n",
       "      <th>StateHoliday</th>\n",
       "      <th>SchoolHoliday</th>\n",
       "      <th>...</th>\n",
       "      <th>month</th>\n",
       "      <th>StoreType</th>\n",
       "      <th>Assortment</th>\n",
       "      <th>CompetitionDistance</th>\n",
       "      <th>CompetitionOpenSinceMonth</th>\n",
       "      <th>CompetitionOpenSinceYear</th>\n",
       "      <th>Promo2</th>\n",
       "      <th>Promo2SinceWeek</th>\n",
       "      <th>Promo2SinceYear</th>\n",
       "      <th>PromoInterval</th>\n",
       "    </tr>\n",
       "  </thead>\n",
       "  <tbody>\n",
       "    <tr>\n",
       "      <th>0</th>\n",
       "      <td>0</td>\n",
       "      <td>1</td>\n",
       "      <td>5</td>\n",
       "      <td>2015-07-31</td>\n",
       "      <td>5263</td>\n",
       "      <td>555</td>\n",
       "      <td>1</td>\n",
       "      <td>1</td>\n",
       "      <td>0</td>\n",
       "      <td>1</td>\n",
       "      <td>...</td>\n",
       "      <td>7</td>\n",
       "      <td>c</td>\n",
       "      <td>a</td>\n",
       "      <td>1270.0</td>\n",
       "      <td>9.0</td>\n",
       "      <td>2008.0</td>\n",
       "      <td>0</td>\n",
       "      <td>0.0</td>\n",
       "      <td>0.0</td>\n",
       "      <td>0</td>\n",
       "    </tr>\n",
       "    <tr>\n",
       "      <th>1</th>\n",
       "      <td>1</td>\n",
       "      <td>2</td>\n",
       "      <td>5</td>\n",
       "      <td>2015-07-31</td>\n",
       "      <td>6064</td>\n",
       "      <td>625</td>\n",
       "      <td>1</td>\n",
       "      <td>1</td>\n",
       "      <td>0</td>\n",
       "      <td>1</td>\n",
       "      <td>...</td>\n",
       "      <td>7</td>\n",
       "      <td>a</td>\n",
       "      <td>a</td>\n",
       "      <td>570.0</td>\n",
       "      <td>11.0</td>\n",
       "      <td>2007.0</td>\n",
       "      <td>1</td>\n",
       "      <td>13.0</td>\n",
       "      <td>2010.0</td>\n",
       "      <td>Jan,Apr,Jul,Oct</td>\n",
       "    </tr>\n",
       "    <tr>\n",
       "      <th>2</th>\n",
       "      <td>2</td>\n",
       "      <td>3</td>\n",
       "      <td>5</td>\n",
       "      <td>2015-07-31</td>\n",
       "      <td>8314</td>\n",
       "      <td>821</td>\n",
       "      <td>1</td>\n",
       "      <td>1</td>\n",
       "      <td>0</td>\n",
       "      <td>1</td>\n",
       "      <td>...</td>\n",
       "      <td>7</td>\n",
       "      <td>a</td>\n",
       "      <td>a</td>\n",
       "      <td>14130.0</td>\n",
       "      <td>12.0</td>\n",
       "      <td>2006.0</td>\n",
       "      <td>1</td>\n",
       "      <td>14.0</td>\n",
       "      <td>2011.0</td>\n",
       "      <td>Jan,Apr,Jul,Oct</td>\n",
       "    </tr>\n",
       "    <tr>\n",
       "      <th>3</th>\n",
       "      <td>3</td>\n",
       "      <td>4</td>\n",
       "      <td>5</td>\n",
       "      <td>2015-07-31</td>\n",
       "      <td>13995</td>\n",
       "      <td>1498</td>\n",
       "      <td>1</td>\n",
       "      <td>1</td>\n",
       "      <td>0</td>\n",
       "      <td>1</td>\n",
       "      <td>...</td>\n",
       "      <td>7</td>\n",
       "      <td>c</td>\n",
       "      <td>c</td>\n",
       "      <td>620.0</td>\n",
       "      <td>9.0</td>\n",
       "      <td>2009.0</td>\n",
       "      <td>0</td>\n",
       "      <td>0.0</td>\n",
       "      <td>0.0</td>\n",
       "      <td>0</td>\n",
       "    </tr>\n",
       "    <tr>\n",
       "      <th>4</th>\n",
       "      <td>4</td>\n",
       "      <td>5</td>\n",
       "      <td>5</td>\n",
       "      <td>2015-07-31</td>\n",
       "      <td>4822</td>\n",
       "      <td>559</td>\n",
       "      <td>1</td>\n",
       "      <td>1</td>\n",
       "      <td>0</td>\n",
       "      <td>1</td>\n",
       "      <td>...</td>\n",
       "      <td>7</td>\n",
       "      <td>a</td>\n",
       "      <td>a</td>\n",
       "      <td>29910.0</td>\n",
       "      <td>4.0</td>\n",
       "      <td>2015.0</td>\n",
       "      <td>0</td>\n",
       "      <td>0.0</td>\n",
       "      <td>0.0</td>\n",
       "      <td>0</td>\n",
       "    </tr>\n",
       "  </tbody>\n",
       "</table>\n",
       "<p>5 rows × 22 columns</p>\n",
       "</div>\n",
       "      <button class=\"colab-df-convert\" onclick=\"convertToInteractive('df-f73fa532-5d2d-483c-8bed-e6359f3b22d6')\"\n",
       "              title=\"Convert this dataframe to an interactive table.\"\n",
       "              style=\"display:none;\">\n",
       "        \n",
       "  <svg xmlns=\"http://www.w3.org/2000/svg\" height=\"24px\"viewBox=\"0 0 24 24\"\n",
       "       width=\"24px\">\n",
       "    <path d=\"M0 0h24v24H0V0z\" fill=\"none\"/>\n",
       "    <path d=\"M18.56 5.44l.94 2.06.94-2.06 2.06-.94-2.06-.94-.94-2.06-.94 2.06-2.06.94zm-11 1L8.5 8.5l.94-2.06 2.06-.94-2.06-.94L8.5 2.5l-.94 2.06-2.06.94zm10 10l.94 2.06.94-2.06 2.06-.94-2.06-.94-.94-2.06-.94 2.06-2.06.94z\"/><path d=\"M17.41 7.96l-1.37-1.37c-.4-.4-.92-.59-1.43-.59-.52 0-1.04.2-1.43.59L10.3 9.45l-7.72 7.72c-.78.78-.78 2.05 0 2.83L4 21.41c.39.39.9.59 1.41.59.51 0 1.02-.2 1.41-.59l7.78-7.78 2.81-2.81c.8-.78.8-2.07 0-2.86zM5.41 20L4 18.59l7.72-7.72 1.47 1.35L5.41 20z\"/>\n",
       "  </svg>\n",
       "      </button>\n",
       "      \n",
       "  <style>\n",
       "    .colab-df-container {\n",
       "      display:flex;\n",
       "      flex-wrap:wrap;\n",
       "      gap: 12px;\n",
       "    }\n",
       "\n",
       "    .colab-df-convert {\n",
       "      background-color: #E8F0FE;\n",
       "      border: none;\n",
       "      border-radius: 50%;\n",
       "      cursor: pointer;\n",
       "      display: none;\n",
       "      fill: #1967D2;\n",
       "      height: 32px;\n",
       "      padding: 0 0 0 0;\n",
       "      width: 32px;\n",
       "    }\n",
       "\n",
       "    .colab-df-convert:hover {\n",
       "      background-color: #E2EBFA;\n",
       "      box-shadow: 0px 1px 2px rgba(60, 64, 67, 0.3), 0px 1px 3px 1px rgba(60, 64, 67, 0.15);\n",
       "      fill: #174EA6;\n",
       "    }\n",
       "\n",
       "    [theme=dark] .colab-df-convert {\n",
       "      background-color: #3B4455;\n",
       "      fill: #D2E3FC;\n",
       "    }\n",
       "\n",
       "    [theme=dark] .colab-df-convert:hover {\n",
       "      background-color: #434B5C;\n",
       "      box-shadow: 0px 1px 3px 1px rgba(0, 0, 0, 0.15);\n",
       "      filter: drop-shadow(0px 1px 2px rgba(0, 0, 0, 0.3));\n",
       "      fill: #FFFFFF;\n",
       "    }\n",
       "  </style>\n",
       "\n",
       "      <script>\n",
       "        const buttonEl =\n",
       "          document.querySelector('#df-f73fa532-5d2d-483c-8bed-e6359f3b22d6 button.colab-df-convert');\n",
       "        buttonEl.style.display =\n",
       "          google.colab.kernel.accessAllowed ? 'block' : 'none';\n",
       "\n",
       "        async function convertToInteractive(key) {\n",
       "          const element = document.querySelector('#df-f73fa532-5d2d-483c-8bed-e6359f3b22d6');\n",
       "          const dataTable =\n",
       "            await google.colab.kernel.invokeFunction('convertToInteractive',\n",
       "                                                     [key], {});\n",
       "          if (!dataTable) return;\n",
       "\n",
       "          const docLinkHtml = 'Like what you see? Visit the ' +\n",
       "            '<a target=\"_blank\" href=https://colab.research.google.com/notebooks/data_table.ipynb>data table notebook</a>'\n",
       "            + ' to learn more about interactive tables.';\n",
       "          element.innerHTML = '';\n",
       "          dataTable['output_type'] = 'display_data';\n",
       "          await google.colab.output.renderOutput(dataTable, element);\n",
       "          const docLink = document.createElement('div');\n",
       "          docLink.innerHTML = docLinkHtml;\n",
       "          element.appendChild(docLink);\n",
       "        }\n",
       "      </script>\n",
       "    </div>\n",
       "  </div>\n",
       "  "
      ],
      "text/plain": [
       "   Unnamed: 0  Store  DayOfWeek        Date  Sales  Customers  Open  Promo  \\\n",
       "0           0      1          5  2015-07-31   5263        555     1      1   \n",
       "1           1      2          5  2015-07-31   6064        625     1      1   \n",
       "2           2      3          5  2015-07-31   8314        821     1      1   \n",
       "3           3      4          5  2015-07-31  13995       1498     1      1   \n",
       "4           4      5          5  2015-07-31   4822        559     1      1   \n",
       "\n",
       "  StateHoliday  SchoolHoliday  ...  month  StoreType  Assortment  \\\n",
       "0            0              1  ...      7          c           a   \n",
       "1            0              1  ...      7          a           a   \n",
       "2            0              1  ...      7          a           a   \n",
       "3            0              1  ...      7          c           c   \n",
       "4            0              1  ...      7          a           a   \n",
       "\n",
       "  CompetitionDistance CompetitionOpenSinceMonth  CompetitionOpenSinceYear  \\\n",
       "0              1270.0                       9.0                    2008.0   \n",
       "1               570.0                      11.0                    2007.0   \n",
       "2             14130.0                      12.0                    2006.0   \n",
       "3               620.0                       9.0                    2009.0   \n",
       "4             29910.0                       4.0                    2015.0   \n",
       "\n",
       "   Promo2  Promo2SinceWeek  Promo2SinceYear    PromoInterval  \n",
       "0       0              0.0              0.0                0  \n",
       "1       1             13.0           2010.0  Jan,Apr,Jul,Oct  \n",
       "2       1             14.0           2011.0  Jan,Apr,Jul,Oct  \n",
       "3       0              0.0              0.0                0  \n",
       "4       0              0.0              0.0                0  \n",
       "\n",
       "[5 rows x 22 columns]"
      ]
     },
     "execution_count": 29,
     "metadata": {},
     "output_type": "execute_result"
    }
   ],
   "source": [
    "df.head()"
   ]
  },
  {
   "cell_type": "code",
   "execution_count": 30,
   "metadata": {
    "colab": {
     "base_uri": "https://localhost:8080/"
    },
    "id": "JIWPNn7FMMmF",
    "outputId": "e1916afa-394c-480a-d998-a0216fbfb676"
   },
   "outputs": [
    {
     "name": "stdout",
     "output_type": "stream",
     "text": [
      "<class 'pandas.core.frame.DataFrame'>\n",
      "RangeIndex: 844338 entries, 0 to 844337\n",
      "Data columns (total 22 columns):\n",
      " #   Column                     Non-Null Count   Dtype  \n",
      "---  ------                     --------------   -----  \n",
      " 0   Unnamed: 0                 844338 non-null  int64  \n",
      " 1   Store                      844338 non-null  int64  \n",
      " 2   DayOfWeek                  844338 non-null  int64  \n",
      " 3   Date                       844338 non-null  object \n",
      " 4   Sales                      844338 non-null  int64  \n",
      " 5   Customers                  844338 non-null  int64  \n",
      " 6   Open                       844338 non-null  int64  \n",
      " 7   Promo                      844338 non-null  int64  \n",
      " 8   StateHoliday               844338 non-null  object \n",
      " 9   SchoolHoliday              844338 non-null  int64  \n",
      " 10  year                       844338 non-null  int64  \n",
      " 11  Quarter                    844338 non-null  int64  \n",
      " 12  month                      844338 non-null  int64  \n",
      " 13  StoreType                  844338 non-null  object \n",
      " 14  Assortment                 844338 non-null  object \n",
      " 15  CompetitionDistance        844338 non-null  float64\n",
      " 16  CompetitionOpenSinceMonth  844338 non-null  float64\n",
      " 17  CompetitionOpenSinceYear   844338 non-null  float64\n",
      " 18  Promo2                     844338 non-null  int64  \n",
      " 19  Promo2SinceWeek            844338 non-null  float64\n",
      " 20  Promo2SinceYear            844338 non-null  float64\n",
      " 21  PromoInterval              844338 non-null  object \n",
      "dtypes: float64(5), int64(12), object(5)\n",
      "memory usage: 141.7+ MB\n"
     ]
    }
   ],
   "source": [
    "df.info()"
   ]
  },
  {
   "cell_type": "code",
   "execution_count": 32,
   "metadata": {
    "id": "GplNS8-fM7f9"
   },
   "outputs": [],
   "source": [
    "df = df.loc[:, ~df.columns.str.contains('^Unnamed')]"
   ]
  },
  {
   "cell_type": "code",
   "execution_count": 33,
   "metadata": {
    "id": "9nLCKgHfMMdE"
   },
   "outputs": [],
   "source": [
    "df['StoreType'] = df['StoreType'].astype(str)\n",
    "df['Assortment'] = df['Assortment'].astype(str)\n",
    "df['StateHoliday'] = df['StateHoliday'].astype(str)\n",
    "df['PromoInterval'] = df['PromoInterval'].astype(str)\n",
    "# Convert 'Date' column to datetime data type\n",
    "df['Date'] = pd.to_datetime(df['Date'])\n"
   ]
  },
  {
   "cell_type": "code",
   "execution_count": 34,
   "metadata": {
    "colab": {
     "base_uri": "https://localhost:8080/"
    },
    "id": "TllhTZogZGQU",
    "outputId": "75922ee7-e7e5-49b2-a426-8dd09e8996c9"
   },
   "outputs": [
    {
     "name": "stdout",
     "output_type": "stream",
     "text": [
      "<class 'pandas.core.frame.DataFrame'>\n",
      "RangeIndex: 844338 entries, 0 to 844337\n",
      "Data columns (total 21 columns):\n",
      " #   Column                     Non-Null Count   Dtype         \n",
      "---  ------                     --------------   -----         \n",
      " 0   Store                      844338 non-null  int64         \n",
      " 1   DayOfWeek                  844338 non-null  int64         \n",
      " 2   Date                       844338 non-null  datetime64[ns]\n",
      " 3   Sales                      844338 non-null  int64         \n",
      " 4   Customers                  844338 non-null  int64         \n",
      " 5   Open                       844338 non-null  int64         \n",
      " 6   Promo                      844338 non-null  int64         \n",
      " 7   StateHoliday               844338 non-null  object        \n",
      " 8   SchoolHoliday              844338 non-null  int64         \n",
      " 9   year                       844338 non-null  int64         \n",
      " 10  Quarter                    844338 non-null  int64         \n",
      " 11  month                      844338 non-null  int64         \n",
      " 12  StoreType                  844338 non-null  object        \n",
      " 13  Assortment                 844338 non-null  object        \n",
      " 14  CompetitionDistance        844338 non-null  float64       \n",
      " 15  CompetitionOpenSinceMonth  844338 non-null  float64       \n",
      " 16  CompetitionOpenSinceYear   844338 non-null  float64       \n",
      " 17  Promo2                     844338 non-null  int64         \n",
      " 18  Promo2SinceWeek            844338 non-null  float64       \n",
      " 19  Promo2SinceYear            844338 non-null  float64       \n",
      " 20  PromoInterval              844338 non-null  object        \n",
      "dtypes: datetime64[ns](1), float64(5), int64(11), object(4)\n",
      "memory usage: 135.3+ MB\n"
     ]
    }
   ],
   "source": [
    "df.info()"
   ]
  },
  {
   "cell_type": "code",
   "execution_count": 96,
   "metadata": {
    "id": "_K9ISmWaYqPS"
   },
   "outputs": [],
   "source": [
    "# Convert relevant columns to appropriate data types\n",
    "df['Store'] = df['Store'].astype(int)\n",
    "df['DayOfWeek'] = df['DayOfWeek'].astype(int)\n",
    "df['Open'] = df['Open'].astype(bool)\n",
    "df['Promo'] = df['Promo'].astype(bool)\n",
    "df['SchoolHoliday'] = df['SchoolHoliday'].astype(bool)\n",
    "df['year'] = df['year'].astype(int)\n",
    "df['Quarter'] = df['Quarter'].astype(int)\n",
    "df['month'] = df['month'].astype(int)\n",
    "df['CompetitionDistance'] = df['CompetitionDistance'].astype(float)\n",
    "df['CompetitionOpenSinceMonth'] = df['CompetitionOpenSinceMonth'].astype(float)\n",
    "df['CompetitionOpenSinceYear'] = df['CompetitionOpenSinceYear'].astype(float)\n",
    "df['Promo2'] = df['Promo2'].astype(bool)\n",
    "df['Promo2SinceWeek'] = df['Promo2SinceWeek'].astype(float)\n",
    "df['Promo2SinceYear'] = df['Promo2SinceYear'].astype(float)\n"
   ]
  },
  {
   "cell_type": "code",
   "execution_count": 97,
   "metadata": {
    "id": "_iPRqLgHaxH5"
   },
   "outputs": [],
   "source": [
    "#!pip install forecast\n"
   ]
  },
  {
   "cell_type": "code",
   "execution_count": 98,
   "metadata": {
    "colab": {
     "base_uri": "https://localhost:8080/"
    },
    "id": "EsJxeokac1Cy",
    "outputId": "e3e52f1a-f64b-4511-a433-e7a6f7c06df8"
   },
   "outputs": [
    {
     "name": "stdout",
     "output_type": "stream",
     "text": [
      "Mean Squared Error: 1600367.5407562552\n",
      "Mean Absolute Error: 901.3464821437044\n",
      "Root Mean Squared Percentage Error: 22.18620505129202\n"
     ]
    }
   ],
   "source": [
    "import pandas as pd\n",
    "import xgboost as xgb\n",
    "from sklearn.model_selection import train_test_split\n",
    "from sklearn.metrics import mean_squared_error, mean_absolute_error\n",
    "import numpy as np\n",
    "\n",
    "# Prepare the data for XGBoost model\n",
    "X = df[['Store', 'DayOfWeek', 'Open', 'Promo', 'SchoolHoliday', 'year', 'Quarter', 'month',\n",
    "        'CompetitionDistance', 'CompetitionOpenSinceMonth', 'CompetitionOpenSinceYear',\n",
    "        'Promo2', 'Promo2SinceWeek', 'Promo2SinceYear']].astype('float')  # Convert columns to float\n",
    "y = df['Sales']\n",
    "X_train, X_test, y_train, y_test = train_test_split(X, y, test_size=0.2, random_state=42)\n",
    "\n",
    "# Create and fit the XGBoost model\n",
    "model = xgb.XGBRegressor()\n",
    "model.fit(X_train, y_train)\n",
    "\n",
    "# Make predictions\n",
    "y_pred = model.predict(X_test)\n",
    "\n",
    "# Evaluate the model\n",
    "mse = mean_squared_error(y_test, y_pred)\n",
    "mae = mean_absolute_error(y_test, y_pred)\n",
    "rmspe = (np.sqrt(np.mean(np.square((y_test - y_pred) / y_test)))) * 100\n",
    "print('Mean Squared Error:', mse)\n",
    "print('Mean Absolute Error:', mae)\n",
    "print('Root Mean Squared Percentage Error:', rmspe)\n"
   ]
  },
  {
   "cell_type": "code",
   "execution_count": 107,
   "metadata": {
    "colab": {
     "base_uri": "https://localhost:8080/"
    },
    "id": "aNzv4tBYnrKb",
    "outputId": "634cd78d-482c-47ab-d8c0-98190312ca04"
   },
   "outputs": [
    {
     "name": "stdout",
     "output_type": "stream",
     "text": [
      "Predicted Sales for Month 1: 8023.4716796875\n",
      "Predicted Sales for Month 2: 8149.4111328125\n",
      "Predicted Sales for Month 3: 8149.4111328125\n",
      "Predicted Sales for Month 4: 8454.7548828125\n",
      "Predicted Sales for Month 5: 8414.0458984375\n"
     ]
    },
    {
     "name": "stderr",
     "output_type": "stream",
     "text": [
      "<ipython-input-107-59142a50aa34>:22: FutureWarning: The frame.append method is deprecated and will be removed from pandas in a future version. Use pandas.concat instead.\n",
      "  next_5_months = next_5_months.append(next_month_data, ignore_index=True)  # Append to the dataframe\n"
     ]
    }
   ],
   "source": [
    "import pandas as pd\n",
    "import xgboost as xgb\n",
    "from sklearn.model_selection import train_test_split\n",
    "import numpy as np\n",
    "\n",
    "# Prepare the data for XGBoost model\n",
    "X = df[['Store', 'DayOfWeek', 'Open', 'Promo', 'SchoolHoliday', 'year', 'Quarter', 'month',\n",
    "        'CompetitionDistance', 'CompetitionOpenSinceMonth', 'CompetitionOpenSinceYear',\n",
    "        'Promo2', 'Promo2SinceWeek', 'Promo2SinceYear']].astype('float')  # Convert columns to float\n",
    "y = df['Sales']\n",
    "X_train, X_test, y_train, y_test = train_test_split(X, y, test_size=0.2, random_state=42)\n",
    "\n",
    "# Create and fit the XGBoost model\n",
    "model = xgb.XGBRegressor()\n",
    "model.fit(X_train, y_train)\n",
    "\n",
    "# Make predictions for the next 5 months\n",
    "next_5_months = pd.DataFrame()  # Create an empty dataframe\n",
    "for i in range(1, 6):\n",
    "    next_month_data = X.iloc[-1, :].copy()  # Copy the last row of X as the base for next month's data\n",
    "    next_month_data['month'] += i  # Increment the month by i to get next month's value\n",
    "    next_5_months = next_5_months.append(next_month_data, ignore_index=True)  # Append to the dataframe\n",
    "\n",
    "y_pred = model.predict(next_5_months)  # Predict sales for the next 5 months\n",
    "\n",
    "# Print or log the predicted sales for the next 5 months\n",
    "for i, pred in enumerate(y_pred):\n",
    "    print(f'Predicted Sales for Month {i+1}: {pred}')\n"
   ]
  },
  {
   "cell_type": "code",
   "execution_count": 111,
   "metadata": {
    "colab": {
     "base_uri": "https://localhost:8080/",
     "height": 480
    },
    "id": "W7Yh9RPYpkVa",
    "outputId": "ab7ba1ee-27e0-43aa-fcd2-5b0f0ef95133"
   },
   "outputs": [
    {
     "data": {
      "image/png": "[encoded data removed]",
      "text/plain": [
       "<Figure size 640x480 with 1 Axes>"
      ]
     },
     "metadata": {},
     "output_type": "display_data"
    }
   ],
   "source": [
    "import matplotlib.pyplot as plt\n",
    "\n",
    "# Create x-axis values for the next 5 months\n",
    "months = ['Aug-2015', 'sept-2015', 'Oct -2015', 'Nov-2015', 'Dec-2015']\n",
    "\n",
    "# Create a bar plot for the predicted sales\n",
    "plt.bar(months, y_pred, color='steelblue')\n",
    "\n",
    "# Set plot title and labels\n",
    "plt.title('Predicted Sales for Next 5 Months')\n",
    "plt.xlabel('Month')\n",
    "plt.ylabel('Sales')\n",
    "\n",
    "# Show the plot\n",
    "plt.show()\n"
   ]
  }
 ],
 "metadata": {
  "colab": {
   "provenance": []
  },
  "kernelspec": {
   "display_name": "Python 3 (ipykernel)",
   "language": "python",
   "name": "python3"
  },
  "language_info": {
   "codemirror_mode": {
    "name": "ipython",
    "version": 3
   },
   "file_extension": ".py",
   "mimetype": "text/x-python",
   "name": "python",
   "nbconvert_exporter": "python",
   "pygments_lexer": "ipython3",
   "version": "3.9.13"
  }
 },
 "nbformat": 4,
 "nbformat_minor": 1
}
